{
 "cells": [
  {
   "cell_type": "markdown",
   "id": "2d8b7fb6-2321-4955-bc13-5758bc90d9e1",
   "metadata": {},
   "source": [
    "## Answer 1."
   ]
  },
  {
   "cell_type": "code",
   "execution_count": 4,
   "id": "aa882614-6edb-4434-b07d-ea93fec26e27",
   "metadata": {},
   "outputs": [],
   "source": [
    "list=[('Sachin Tendulkar', 34357), ('Ricky Ponting', 27483), ('Jack Kallis', 25534), ('Virat Kohli', 24936)]"
   ]
  },
  {
   "cell_type": "code",
   "execution_count": 6,
   "id": "3e80cae1-e5b9-4c51-a5f5-7377beb5be08",
   "metadata": {},
   "outputs": [],
   "source": [
    "sorted_data= sorted(list,key= lambda x:x[1])"
   ]
  },
  {
   "cell_type": "code",
   "execution_count": 7,
   "id": "da3a91e4-dac0-4e07-9c69-1230e62f92c1",
   "metadata": {},
   "outputs": [
    {
     "name": "stdout",
     "output_type": "stream",
     "text": [
      "[('Virat Kohli', 24936), ('Jack Kallis', 25534), ('Ricky Ponting', 27483), ('Sachin Tendulkar', 34357)]\n"
     ]
    }
   ],
   "source": [
    "print(sorted_data)"
   ]
  },
  {
   "cell_type": "markdown",
   "id": "59b2f4a8-292f-426d-b95f-29a8af61a209",
   "metadata": {},
   "source": [
    "## Answer 2."
   ]
  },
  {
   "cell_type": "code",
   "execution_count": null,
   "id": "04e19434-4548-425b-a5a9-daa147a0d3f2",
   "metadata": {},
   "outputs": [],
   "source": [
    "# Given list of integers\n",
    "numbers = [1, 2, 3, 4, 5, 6, 7, 8, 9, 10]\n",
    "\n",
    "# Using map and lambda to find the squares\n",
    "squares = list(map(lambda x: x**2, numbers))\n",
    "\n",
    "# Displaying the squares\n",
    "print(squares)\n"
   ]
  },
  {
   "cell_type": "markdown",
   "id": "8efcb27d-386d-46ef-aa08-dd97e2340572",
   "metadata": {},
   "source": [
    "## Answer 3"
   ]
  },
  {
   "cell_type": "code",
   "execution_count": 16,
   "id": "e9c85582-30b0-43d9-8e0c-fd93d7dbe5fd",
   "metadata": {},
   "outputs": [
    {
     "name": "stdout",
     "output_type": "stream",
     "text": [
      "('1', '2', '3', '4', '5', '6', '7', '8', '9', '10')\n"
     ]
    }
   ],
   "source": [
    "# Given list of integers\n",
    "numbers = [1, 2, 3, 4, 5, 6, 7, 8, 9, 10]\n",
    "\n",
    "# Using map and lambda to convert integers to strings\n",
    "string_tuple = tuple(map(lambda x: str(x), numbers))\n",
    "\n",
    "# Displaying the tuple of strings\n",
    "print(string_tuple)\n"
   ]
  },
  {
   "cell_type": "markdown",
   "id": "c5697b47-300e-4734-a7ab-f0db1a22f8f1",
   "metadata": {},
   "source": [
    "## Answer 4"
   ]
  },
  {
   "cell_type": "code",
   "execution_count": null,
   "id": "280f92e2-246d-4f85-a70f-f5d3066d9c25",
   "metadata": {},
   "outputs": [],
   "source": [
    "from functools import reduce\n",
    "\n",
    "# Generate a list of numbers from 1 to 25\n",
    "numbers = list(range(1, 26))\n",
    "\n",
    "# Using reduce to compute the product\n",
    "product = reduce(lambda x, y: x * y, numbers)\n",
    "\n",
    "# Displaying the product\n",
    "print(\"Product:\", product)\n"
   ]
  },
  {
   "cell_type": "markdown",
   "id": "addce2bb-6939-427d-b44e-6820fa146bdd",
   "metadata": {},
   "source": [
    "## Answer 5."
   ]
  },
  {
   "cell_type": "code",
   "execution_count": null,
   "id": "07c485f8-deea-4def-a642-06d9aaa9698b",
   "metadata": {},
   "outputs": [],
   "source": [
    "# Given list of numbers\n",
    "numbers = [2, 3, 6, 9, 27, 60, 90, 120, 55, 46]\n",
    "\n",
    "# Using filter and lambda to filter numbers divisible by 2 and 3\n",
    "filtered_numbers = list(filter(lambda x: x % 2 == 0 and x % 3 == 0, numbers))\n",
    "\n",
    "# Displaying the filtered numbers\n",
    "print(filtered_numbers)\n"
   ]
  },
  {
   "cell_type": "markdown",
   "id": "8d820a2d-2b67-49a1-b674-a38939afc783",
   "metadata": {},
   "source": [
    "## Answer 6."
   ]
  },
  {
   "cell_type": "code",
   "execution_count": null,
   "id": "a73c75eb-17c3-4c80-a407-f7da52f1d7b3",
   "metadata": {},
   "outputs": [],
   "source": [
    "# Given list of strings\n",
    "words = ['python', 'php', 'aba', 'radar', 'level']\n",
    "\n",
    "# Using filter and lambda to filter palindromes\n",
    "palindromes = list(filter(lambda x: x == x[::-1], words))\n",
    "\n",
    "# Displaying the palindromes\n",
    "print(palindromes)\n"
   ]
  }
 ],
 "metadata": {
  "kernelspec": {
   "display_name": "Python 3 (ipykernel)",
   "language": "python",
   "name": "python3"
  },
  "language_info": {
   "codemirror_mode": {
    "name": "ipython",
    "version": 3
   },
   "file_extension": ".py",
   "mimetype": "text/x-python",
   "name": "python",
   "nbconvert_exporter": "python",
   "pygments_lexer": "ipython3",
   "version": "3.10.8"
  }
 },
 "nbformat": 4,
 "nbformat_minor": 5
}
